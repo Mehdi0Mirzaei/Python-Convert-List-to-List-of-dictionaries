{
 "cells": [
  {
   "cell_type": "code",
   "execution_count": 24,
   "id": "e9ea5b3e",
   "metadata": {},
   "outputs": [
    {
     "name": "stdout",
     "output_type": "stream",
     "text": [
      "The original list : ['a', 3, 'b', 8, 'c', 10, 'd', 18, 'e', 33]\n",
      "The constructed dictionary list : [{'name': 'a', 'number': 3}, {'name': 'b', 'number': 8}, {'name': 'c', 'number': 10}, {'name': 'd', 'number': 18}, {'name': 'e', 'number': 33}]\n"
     ]
    }
   ],
   "source": [
    "# initializing lists\n",
    "test_list = [\"a\", 3, \"b\", 8, \"c\", 10, \"d\", 18, \"e\", 33]\n",
    " \n",
    "# printing original list\n",
    "print(\"The original list : \" + str(test_list))\n",
    " \n",
    "# initializing key list\n",
    "key_list = [\"name\", \"number\"]\n",
    " \n",
    "# loop to iterate through elements\n",
    "# using dictionary comprehension\n",
    "# for dictionary construction\n",
    "n = len(test_list)\n",
    "res = []\n",
    "for idx in range(0, n, 2):\n",
    "    res.append({key_list[0]: test_list[idx], key_list[1] : test_list[idx + 1]})\n",
    " # printing result\n",
    "print(\"The constructed dictionary list : \" + str(res))"
   ]
  },
  {
   "cell_type": "code",
   "execution_count": 25,
   "id": "92b712d9",
   "metadata": {},
   "outputs": [
    {
     "name": "stdout",
     "output_type": "stream",
     "text": [
      "The original list : ['a', 3, 'b', 8, 'c', 10, 'd', 18, 'e', 33]\n",
      "The constructed dictionary list : [{'name': 'a', 'number': 3}, {'name': 'b', 'number': 8}, {'name': 'c', 'number': 10}, {'name': 'd', 'number': 18}, {'name': 'e', 'number': 33}]\n"
     ]
    }
   ],
   "source": [
    "# printing original list\n",
    "test_list = [\"a\", 3, \"b\", 8, \"c\", 10, \"d\", 18, \"e\", 33]\n",
    "print(\"The original list : \" + str(test_list))\n",
    " \n",
    "# initializing key list\n",
    "key_list = [\"name\", \"number\"]\n",
    " \n",
    "# using list comprehension to perform as shorthand\n",
    "n = len(test_list)\n",
    "res = [{key_list[0]: test_list[idx], key_list[1]: test_list[idx + 1]}\n",
    "       for idx in range(0, n, 2)]\n",
    " \n",
    "# printing result\n",
    "print(\"The constructed dictionary list : \" + str(res))"
   ]
  },
  {
   "cell_type": "code",
   "execution_count": 26,
   "id": "086a6e71",
   "metadata": {},
   "outputs": [
    {
     "name": "stdout",
     "output_type": "stream",
     "text": [
      "The constructed dictionary list : [{'name': 'a', 'number': 3}, {'name': 'b', 'number': 8}, {'name': 'c', 'number': 10}, {'name': 'd', 'number': 18}, {'name': 'e', 'number': 33}]\n"
     ]
    }
   ],
   "source": [
    "# initializing key list\n",
    "test_list = [\"a\", 3, \"b\", 8, \"c\", 10, \"d\", 18, \"e\", 33]\n",
    "key_list = [\"name\", \"number\"]\n",
    " \n",
    "# using zip() function and dictionary comprehension\n",
    "res = [{key_list[i]: val for i, val in enumerate(pair)} for pair in zip(test_list[::2], test_list[1::2])]\n",
    " \n",
    "# printing result\n",
    "print(\"The constructed dictionary list : \" + str(res))"
   ]
  },
  {
   "cell_type": "code",
   "execution_count": null,
   "id": "b9ef5efa",
   "metadata": {},
   "outputs": [],
   "source": []
  }
 ],
 "metadata": {
  "kernelspec": {
   "display_name": "Python 3 (ipykernel)",
   "language": "python",
   "name": "python3"
  },
  "language_info": {
   "codemirror_mode": {
    "name": "ipython",
    "version": 3
   },
   "file_extension": ".py",
   "mimetype": "text/x-python",
   "name": "python",
   "nbconvert_exporter": "python",
   "pygments_lexer": "ipython3",
   "version": "3.9.17"
  }
 },
 "nbformat": 4,
 "nbformat_minor": 5
}
